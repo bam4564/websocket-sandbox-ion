{
 "cells": [
  {
   "cell_type": "code",
   "execution_count": 1,
   "metadata": {},
   "outputs": [],
   "source": [
    "\n",
    "from typing import Dict, Any\n",
    "import socketio\n",
    "import asyncio\n",
    "import threading\n",
    "from uuid_extensions import uuid7str"
   ]
  },
  {
   "cell_type": "code",
   "execution_count": 2,
   "metadata": {},
   "outputs": [
    {
     "name": "stdout",
     "output_type": "stream",
     "text": [
      "EVENT [connect]: Connected to the data server.\n",
      "EVENT [message]: Received message: {'jsonrpc': '2.0', 'result': {'markets': [{'id': 1, 'name': 'wstETH-weETH', 'description': 'wstETH to weETH market pair', 'rfqTtlMsecs': 600000, 'defaultOrderTtlSecs': 300, 'minOrderTtlSecs': 120, 'maxOrderTtlSecs': 600, 'feeBps': 10, 'asset0Id': 2, 'asset1Id': 3, 'marketStatus': 'ONLINE', 'asset0': {'id': 2, 'symbol': 'wstETH', 'tokenType': 'ERC20', 'erc20Id': 2, 'erc721Id': None, 'erc1155Id': None, 'info': {'assetId': 2, 'address': '0x7f39C581F595B53c5cb19bD0b3f8dA6c935E2Ca0', 'chain': 'Ethereum'}, 'erc20': {'id': 2, 'chain': 'Ethereum', 'address': '0x7f39C581F595B53c5cb19bD0b3f8dA6c935E2Ca0', 'name': 'Wrapped liquid staked Ether 2.0', 'symbol': 'wstETH', 'description': None, 'tokenDecimals': 18}}, 'asset1': {'id': 3, 'symbol': 'weETH', 'tokenType': 'ERC20', 'erc20Id': 3, 'erc721Id': None, 'erc1155Id': None, 'info': {'assetId': 3, 'address': '0xCd5fE23C85820F7B72D0926FC9b05b43E359b7ee', 'chain': 'Ethereum'}, 'erc20': {'id': 3, 'chain': 'Ethereum', 'address': '0xCd5fE23C85820F7B72D0926FC9b05b43E359b7ee', 'name': 'Wrapped eETH', 'symbol': 'weETH', 'description': None, 'tokenDecimals': 18}}}, {'id': 2, 'name': 'wstETH-ezETH', 'description': 'wstETH to ezETH market pair', 'rfqTtlMsecs': 600000, 'defaultOrderTtlSecs': 300, 'minOrderTtlSecs': 120, 'maxOrderTtlSecs': 600, 'feeBps': 10, 'asset0Id': 2, 'asset1Id': 4, 'marketStatus': 'ONLINE', 'asset0': {'id': 2, 'symbol': 'wstETH', 'tokenType': 'ERC20', 'erc20Id': 2, 'erc721Id': None, 'erc1155Id': None, 'info': {'assetId': 2, 'address': '0x7f39C581F595B53c5cb19bD0b3f8dA6c935E2Ca0', 'chain': 'Ethereum'}, 'erc20': {'id': 2, 'chain': 'Ethereum', 'address': '0x7f39C581F595B53c5cb19bD0b3f8dA6c935E2Ca0', 'name': 'Wrapped liquid staked Ether 2.0', 'symbol': 'wstETH', 'description': None, 'tokenDecimals': 18}}, 'asset1': {'id': 4, 'symbol': 'ezETH', 'tokenType': 'ERC20', 'erc20Id': 4, 'erc721Id': None, 'erc1155Id': None, 'info': {'assetId': 4, 'address': '0xbf5495Efe5DB9ce00f80364C8B423567e58d2110', 'chain': 'Ethereum'}, 'erc20': {'id': 4, 'chain': 'Ethereum', 'address': '0xbf5495Efe5DB9ce00f80364C8B423567e58d2110', 'name': 'Renzo Restaked ETH', 'symbol': 'ezETH', 'description': None, 'tokenDecimals': 18}}}, {'id': 3, 'name': 'wstETH-rsETH', 'description': 'wstETH to rsETH market pair', 'rfqTtlMsecs': 600000, 'defaultOrderTtlSecs': 300, 'minOrderTtlSecs': 120, 'maxOrderTtlSecs': 600, 'feeBps': 10, 'asset0Id': 2, 'asset1Id': 5, 'marketStatus': 'ONLINE', 'asset0': {'id': 2, 'symbol': 'wstETH', 'tokenType': 'ERC20', 'erc20Id': 2, 'erc721Id': None, 'erc1155Id': None, 'info': {'assetId': 2, 'address': '0x7f39C581F595B53c5cb19bD0b3f8dA6c935E2Ca0', 'chain': 'Ethereum'}, 'erc20': {'id': 2, 'chain': 'Ethereum', 'address': '0x7f39C581F595B53c5cb19bD0b3f8dA6c935E2Ca0', 'name': 'Wrapped liquid staked Ether 2.0', 'symbol': 'wstETH', 'description': None, 'tokenDecimals': 18}}, 'asset1': {'id': 5, 'symbol': 'rsETH', 'tokenType': 'ERC20', 'erc20Id': 5, 'erc721Id': None, 'erc1155Id': None, 'info': {'assetId': 5, 'address': '0xA1290d69c65A6Fe4DF752f95823fae25cB99e5A7', 'chain': 'Ethereum'}, 'erc20': {'id': 5, 'chain': 'Ethereum', 'address': '0xA1290d69c65A6Fe4DF752f95823fae25cB99e5A7', 'name': 'rsETH', 'symbol': 'rsETH', 'description': None, 'tokenDecimals': 18}}}]}, 'id': '06619bf1-aff7-77c0-8000-8a0ed8bde83d'}\n",
      "Successfully got markets {'markets': [{'id': 1, 'name': 'wstETH-weETH', 'description': 'wstETH to weETH market pair', 'rfqTtlMsecs': 600000, 'defaultOrderTtlSecs': 300, 'minOrderTtlSecs': 120, 'maxOrderTtlSecs': 600, 'feeBps': 10, 'asset0Id': 2, 'asset1Id': 3, 'marketStatus': 'ONLINE', 'asset0': {'id': 2, 'symbol': 'wstETH', 'tokenType': 'ERC20', 'erc20Id': 2, 'erc721Id': None, 'erc1155Id': None, 'info': {'assetId': 2, 'address': '0x7f39C581F595B53c5cb19bD0b3f8dA6c935E2Ca0', 'chain': 'Ethereum'}, 'erc20': {'id': 2, 'chain': 'Ethereum', 'address': '0x7f39C581F595B53c5cb19bD0b3f8dA6c935E2Ca0', 'name': 'Wrapped liquid staked Ether 2.0', 'symbol': 'wstETH', 'description': None, 'tokenDecimals': 18}}, 'asset1': {'id': 3, 'symbol': 'weETH', 'tokenType': 'ERC20', 'erc20Id': 3, 'erc721Id': None, 'erc1155Id': None, 'info': {'assetId': 3, 'address': '0xCd5fE23C85820F7B72D0926FC9b05b43E359b7ee', 'chain': 'Ethereum'}, 'erc20': {'id': 3, 'chain': 'Ethereum', 'address': '0xCd5fE23C85820F7B72D0926FC9b05b43E359b7ee', 'name': 'Wrapped eETH', 'symbol': 'weETH', 'description': None, 'tokenDecimals': 18}}}, {'id': 2, 'name': 'wstETH-ezETH', 'description': 'wstETH to ezETH market pair', 'rfqTtlMsecs': 600000, 'defaultOrderTtlSecs': 300, 'minOrderTtlSecs': 120, 'maxOrderTtlSecs': 600, 'feeBps': 10, 'asset0Id': 2, 'asset1Id': 4, 'marketStatus': 'ONLINE', 'asset0': {'id': 2, 'symbol': 'wstETH', 'tokenType': 'ERC20', 'erc20Id': 2, 'erc721Id': None, 'erc1155Id': None, 'info': {'assetId': 2, 'address': '0x7f39C581F595B53c5cb19bD0b3f8dA6c935E2Ca0', 'chain': 'Ethereum'}, 'erc20': {'id': 2, 'chain': 'Ethereum', 'address': '0x7f39C581F595B53c5cb19bD0b3f8dA6c935E2Ca0', 'name': 'Wrapped liquid staked Ether 2.0', 'symbol': 'wstETH', 'description': None, 'tokenDecimals': 18}}, 'asset1': {'id': 4, 'symbol': 'ezETH', 'tokenType': 'ERC20', 'erc20Id': 4, 'erc721Id': None, 'erc1155Id': None, 'info': {'assetId': 4, 'address': '0xbf5495Efe5DB9ce00f80364C8B423567e58d2110', 'chain': 'Ethereum'}, 'erc20': {'id': 4, 'chain': 'Ethereum', 'address': '0xbf5495Efe5DB9ce00f80364C8B423567e58d2110', 'name': 'Renzo Restaked ETH', 'symbol': 'ezETH', 'description': None, 'tokenDecimals': 18}}}, {'id': 3, 'name': 'wstETH-rsETH', 'description': 'wstETH to rsETH market pair', 'rfqTtlMsecs': 600000, 'defaultOrderTtlSecs': 300, 'minOrderTtlSecs': 120, 'maxOrderTtlSecs': 600, 'feeBps': 10, 'asset0Id': 2, 'asset1Id': 5, 'marketStatus': 'ONLINE', 'asset0': {'id': 2, 'symbol': 'wstETH', 'tokenType': 'ERC20', 'erc20Id': 2, 'erc721Id': None, 'erc1155Id': None, 'info': {'assetId': 2, 'address': '0x7f39C581F595B53c5cb19bD0b3f8dA6c935E2Ca0', 'chain': 'Ethereum'}, 'erc20': {'id': 2, 'chain': 'Ethereum', 'address': '0x7f39C581F595B53c5cb19bD0b3f8dA6c935E2Ca0', 'name': 'Wrapped liquid staked Ether 2.0', 'symbol': 'wstETH', 'description': None, 'tokenDecimals': 18}}, 'asset1': {'id': 5, 'symbol': 'rsETH', 'tokenType': 'ERC20', 'erc20Id': 5, 'erc721Id': None, 'erc1155Id': None, 'info': {'assetId': 5, 'address': '0xA1290d69c65A6Fe4DF752f95823fae25cB99e5A7', 'chain': 'Ethereum'}, 'erc20': {'id': 5, 'chain': 'Ethereum', 'address': '0xA1290d69c65A6Fe4DF752f95823fae25cB99e5A7', 'name': 'rsETH', 'symbol': 'rsETH', 'description': None, 'tokenDecimals': 18}}}]}\n"
     ]
    }
   ],
   "source": [
    "class DataNamespace(socketio.AsyncClientNamespace):\n",
    "\n",
    "    def __init__(self, *args, **kwargs):\n",
    "        super().__init__(*args, **kwargs)\n",
    "        self.sent_messages = {}\n",
    "\n",
    "    # ------------------------------ Event Handlers ------------------------------\n",
    "\n",
    "    def on_connect(self):\n",
    "        print(\"EVENT [connect]: Connected to the data server.\")\n",
    "\n",
    "    def on_disconnect(self):\n",
    "        print(\"EVENT [disconnect]: Disconnected from the data server.\")\n",
    "\n",
    "    # ------------------------------ JSONRPC Method Handlers ------------------------------\n",
    "\n",
    "    def on_message(self, data):\n",
    "        print(f\"EVENT [message]: Received message: {data}\")\n",
    "        msg_id = data['id']\n",
    "        result = data['result'] if 'result' in data else None\n",
    "        error = data['error'] if 'error' in data else None\n",
    "        jsonrpc = data['jsonrpc']\n",
    "        if not jsonrpc == '2.0':\n",
    "            raise Exception('Invalid JSON-RPC version received from server')\n",
    "        # handle response based on sent messages \n",
    "        if not msg_id in self.sent_messages:\n",
    "            raise Exception(f\"Received message with id: {msg_id} that was never sent\")\n",
    "        ori_msg = self.sent_messages[msg_id]\n",
    "        # handle errors \n",
    "        if error:\n",
    "            print(f\"For request {msg_id} received error: {error}\")\n",
    "            return\n",
    "        # handle results\n",
    "        if ori_msg['method'] == 'hg_getMarkets':\n",
    "            print(f\"Successfully got markets {result}\")\n",
    "        else: \n",
    "            raise Exception(f\"Unknown method {ori_msg['method']} in sent message {msg_id}\")\n",
    "\n",
    "sio = socketio.AsyncClient()\n",
    "NAMESPACE = '/data'\n",
    "SERVER_URL = f'wss://api-origin-staging-v2.hourglass.com/{NAMESPACE}'\n",
    "\n",
    "ns = DataNamespace(NAMESPACE)\n",
    "sio.register_namespace(ns)\n",
    "\n",
    "loop = asyncio.new_event_loop()  # Create a new event loop\n",
    "asyncio.set_event_loop(loop)  # Set the new loop as the current event loop\n",
    "\n",
    "# Connect to the server\n",
    "asyncio.run_coroutine_threadsafe(sio.connect(SERVER_URL, namespaces=[NAMESPACE], transports=['websocket']), loop)\n",
    "\n",
    "# Start the event loop in a separate thread\n",
    "t = threading.Thread(target=loop.run_forever)\n",
    "t.start()"
   ]
  },
  {
   "cell_type": "code",
   "execution_count": 3,
   "metadata": {},
   "outputs": [],
   "source": [
    "async def emit_message(method: str, params: Dict[str, Any]): \n",
    "    msg_id = uuid7str()\n",
    "    msg = {\n",
    "        'jsonrpc': '2.0',\n",
    "        'method': method,\n",
    "        'params': params,\n",
    "        'id': msg_id\n",
    "    }\n",
    "    print(f\"Sending message: {msg}\")\n",
    "    ns.sent_messages[msg_id] = msg\n",
    "    res = await sio.emit('message', msg, namespace=NAMESPACE)\n",
    "    return res \n",
    "\n",
    "async def get_markets():\n",
    "    method = 'hg_getMarkets'\n",
    "    params = {}\n",
    "    res = await emit_message(method, params)\n",
    "    print(f\"Attempted to get markets\")\n",
    "    print(res)"
   ]
  },
  {
   "cell_type": "code",
   "execution_count": 8,
   "metadata": {},
   "outputs": [
    {
     "name": "stdout",
     "output_type": "stream",
     "text": [
      "EVENT [disconnect]: Disconnected from the RFQ server.\n"
     ]
    },
    {
     "data": {
      "text/plain": [
       "<Future at 0x120f054d0 state=pending>"
      ]
     },
     "execution_count": 8,
     "metadata": {},
     "output_type": "execute_result"
    }
   ],
   "source": [
    "# DISCONNECT \n",
    "asyncio.run_coroutine_threadsafe(sio.disconnect(), loop) "
   ]
  },
  {
   "cell_type": "code",
   "execution_count": 4,
   "metadata": {},
   "outputs": [
    {
     "name": "stdout",
     "output_type": "stream",
     "text": [
      "Sending message: {'jsonrpc': '2.0', 'method': 'hg_getMarkets', 'params': {}, 'id': '06619bf1-aff7-77c0-8000-8a0ed8bde83d'}\n",
      "Attempted to get markets\n",
      "None\n"
     ]
    },
    {
     "data": {
      "text/plain": [
       "<Future at 0x1187b6790 state=pending>"
      ]
     },
     "execution_count": 4,
     "metadata": {},
     "output_type": "execute_result"
    }
   ],
   "source": [
    "# GET MARKETS\n",
    "asyncio.run_coroutine_threadsafe(get_markets(), loop)"
   ]
  },
  {
   "cell_type": "code",
   "execution_count": null,
   "metadata": {},
   "outputs": [],
   "source": []
  }
 ],
 "metadata": {
  "kernelspec": {
   "display_name": "websocket-sandbox",
   "language": "python",
   "name": "websocket-sandbox"
  },
  "language_info": {
   "codemirror_mode": {
    "name": "ipython",
    "version": 3
   },
   "file_extension": ".py",
   "mimetype": "text/x-python",
   "name": "python",
   "nbconvert_exporter": "python",
   "pygments_lexer": "ipython3",
   "version": "3.11.7"
  }
 },
 "nbformat": 4,
 "nbformat_minor": 4
}
